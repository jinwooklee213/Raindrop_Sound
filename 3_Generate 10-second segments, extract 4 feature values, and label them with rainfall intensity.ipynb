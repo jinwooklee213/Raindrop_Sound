{
 "cells": [
  {
   "cell_type": "markdown",
   "id": "7857e7a6",
   "metadata": {},
   "source": [
    "# 라이브러리"
   ]
  },
  {
   "cell_type": "code",
   "execution_count": 1,
   "id": "612a7051",
   "metadata": {
    "ExecuteTime": {
     "end_time": "2023-02-11T15:33:27.291564Z",
     "start_time": "2023-02-11T15:33:25.768700Z"
    }
   },
   "outputs": [],
   "source": [
    "import librosa\n",
    "import os\n",
    "from glob import glob\n",
    "from tqdm import tqdm\n",
    "import numpy as np\n",
    "import pandas as pd\n",
    "from datetime import datetime\n",
    "from datetime import timedelta\n",
    "import matplotlib.pyplot as plt"
   ]
  },
  {
   "cell_type": "markdown",
   "id": "210e5332",
   "metadata": {},
   "source": [
    "# 10초 간격 데이터 추출"
   ]
  },
  {
   "cell_type": "code",
   "execution_count": 2,
   "id": "4059a458",
   "metadata": {
    "ExecuteTime": {
     "end_time": "2023-02-10T09:51:05.304485Z",
     "start_time": "2023-02-10T09:51:05.209340Z"
    }
   },
   "outputs": [],
   "source": [
    "file_list = [x[:-4] for x in os.listdir(r'D:\\1. 음향기반 강우관측\\Dataset\\음향 데이터\\음향자료_초단위')]\n",
    "\n",
    "tenmin_list = [x[:-5]+\"0\" for x in os.listdir(r'D:\\1. 음향기반 강우관측\\Dataset\\음향 데이터\\음향자료_초단위/')]\n",
    "\n",
    "time_list = sorted(list(set(tenmin_list)))\n",
    "\n",
    "dataset = pd.DataFrame({\"time\":time_list})"
   ]
  },
  {
   "cell_type": "code",
   "execution_count": 3,
   "id": "6194299c",
   "metadata": {
    "ExecuteTime": {
     "end_time": "2023-02-10T15:33:24.521526Z",
     "start_time": "2023-02-10T09:51:06.385375Z"
    }
   },
   "outputs": [
    {
     "name": "stderr",
     "output_type": "stream",
     "text": [
      "100%|██████████| 14510/14510 [35:36<00:00,  6.79it/s] \n"
     ]
    }
   ],
   "source": [
    "for k in tqdm(range(len(dataset))):\n",
    "\n",
    "    # 10초 간의 파일 list 생성\n",
    "    temp_file_list = []\n",
    "    for sec in range(10):\n",
    "        temp_time = (datetime.strptime(dataset.loc[k, 'time'], '%Y_%m_%d_%H_%M_%S') + timedelta(seconds = sec))\n",
    " \n",
    "        if temp_time.strftime(\"%Y_%m_%d_%H_%M_%S\") in file_list:\n",
    "            temp_file_list.append(temp_time.strftime(\"%Y_%m_%d_%H_%M_%S\")+'.npy')\n",
    "\n",
    "    # 10초 길이의 음향 합치기\n",
    "    temp_sig = np.load(r'D:\\1. 음향기반 강우관측\\Dataset\\음향 데이터\\음향자료_초단위/'+temp_file_list[0])\n",
    "\n",
    "    for ii in range(1,len(temp_file_list)):\n",
    "        temp_sig = np.concatenate((temp_sig, np.load(r'D:\\1. 음향기반 강우관측\\Dataset\\음향 데이터\\음향자료_초단위/'+temp_file_list[ii])))\n",
    "\n",
    "    # threshold -20dB 주고, 최고주파수, 평균, 표준편차 값 구하여 dataset 만들기\n",
    "    threshold = -20\n",
    "    num_of_row = 500\n",
    "    n_fft = (num_of_row - 1) * 2\n",
    "    sr = 44100\n",
    "    hop_length = 512\n",
    "    win_length = int(44100/100)\n",
    "\n",
    "    X = librosa.stft(temp_sig, n_fft=n_fft, hop_length=hop_length, win_length=win_length, center=False)\n",
    "    mag = abs(X)\n",
    "\n",
    "    Xdb = librosa.amplitude_to_db(mag)\n",
    "\n",
    "    Xdb = np.where(Xdb > threshold, Xdb, -30)\n",
    "\n",
    "    max_freq_list = []\n",
    "\n",
    "    for x in range(Xdb.shape[1]):\n",
    "\n",
    "        for y in range(Xdb.shape[0]):\n",
    "            if Xdb[y,x] > -30:\n",
    "                max_freq = y\n",
    "        max_freq_list.append(max_freq)\n",
    "\n",
    "    dataset.loc[k,'max_frequency'] = np.mean(max_freq_list)  # 각 window의 max frequency의 평균\n",
    "    \n",
    "    temp_mean_list = []\n",
    "    for row in range(Xdb.shape[0]):\n",
    "        temp_mean_list.append(np.mean(Xdb[row,:]+30)*row)\n",
    "    dataset.loc[k,'weighted mean_dB'] = np.mean(temp_mean_list) # 각 frequency별 시계열 주기 세기 평균값에 대한 frequency 가중치 평균\n",
    "    \n",
    "    dataset.loc[k,'mean_dB'] = np.mean(Xdb.reshape(Xdb.shape[0]*Xdb.shape[1]))\n",
    "    dataset.loc[k,'standard deviation_dB'] = np.std(Xdb.reshape(Xdb.shape[0]*Xdb.shape[1]))\n",
    "\n",
    "    reshaped_array = Xdb.reshape(Xdb.shape[0]*Xdb.shape[1])\n",
    "    dataset.loc[k,'standard deviation_dB'] = (np.sum((reshaped_array - np.mean(reshaped_array))**2)) / (Xdb.shape[0]*Xdb.shape[1] -1 )\n",
    "\n",
    "dataset.to_csv(r'D:\\1. 음향기반 강우관측\\Dataset\\음향 데이터\\CSV_DATASET/10sec_unbiased standard deviation_20220731_20221128.csv', encoding='cp949', index=None)"
   ]
  },
  {
   "cell_type": "markdown",
   "id": "502e61ca",
   "metadata": {},
   "source": [
    "# Parsivel 데이터 read"
   ]
  },
  {
   "cell_type": "code",
   "execution_count": 3,
   "id": "0b6c3b8c",
   "metadata": {},
   "outputs": [],
   "source": [
    "par_file_list = glob(r\"D:\\1. 음향기반 강우관측\\Dataset\\음향 데이터\\CSV_DATASET/*.mis\")"
   ]
  },
  {
   "cell_type": "code",
   "execution_count": 4,
   "id": "922d108f",
   "metadata": {
    "ExecuteTime": {
     "end_time": "2023-02-11T15:33:34.138386Z",
     "start_time": "2023-02-11T15:33:29.645619Z"
    }
   },
   "outputs": [
    {
     "name": "stderr",
     "output_type": "stream",
     "text": [
      "100%|██████████| 12/12 [00:02<00:00,  4.20it/s]\n",
      "100%|██████████| 67012/67012 [01:16<00:00, 874.95it/s] \n"
     ]
    }
   ],
   "source": [
    "date = []\n",
    "time = []\n",
    "intensity = []\n",
    "dsd = []\n",
    "\n",
    "for par_file in tqdm(par_file_list):\n",
    "    with open(par_file, \"r\") as f:\n",
    "\n",
    "        while True:\n",
    "            \n",
    "            line = f.readline()\n",
    "            if not line: break\n",
    "                \n",
    "            if line.startswith('21'):\n",
    "                date.append(line[3:-1])\n",
    "                \n",
    "            if line.startswith('20'):\n",
    "                time.append(line[3:-1])\n",
    "                \n",
    "            if line.startswith('01'):\n",
    "                intensity.append(line[3:-1])\n",
    "                \n",
    "            if line.startswith('90'):\n",
    "                dsd.append(line[3:-1])            \n",
    "\n",
    "all_data = pd.DataFrame({'date':date, 'time':time, 'intensity':intensity, 'dsd':dsd})\n",
    "\n",
    "for k in tqdm(range(len(all_data))):\n",
    "    \n",
    "    date = all_data['date'][k] + ' ' + all_data['time'][k]\n",
    "    full_date = str(datetime.strptime(date, \"%d.%m.%Y %H:%M:%S\"))\n",
    "    all_data.loc[k, 'full_date'] = full_date"
   ]
  },
  {
   "cell_type": "markdown",
   "id": "1a77a067",
   "metadata": {},
   "source": [
    "# dataset에 파시벨 관측값 추가"
   ]
  },
  {
   "cell_type": "code",
   "execution_count": 5,
   "id": "de128b72",
   "metadata": {
    "ExecuteTime": {
     "end_time": "2023-02-11T15:33:38.705323Z",
     "start_time": "2023-02-11T15:33:38.676325Z"
    }
   },
   "outputs": [],
   "source": [
    "dataset = pd.read_csv(r'D:\\1. 음향기반 강우관측\\Dataset\\음향 데이터\\CSV_DATASET/dataset_20220731_20230827.csv', encoding='cp949')"
   ]
  },
  {
   "cell_type": "code",
   "execution_count": 6,
   "id": "dfaa3dac",
   "metadata": {
    "ExecuteTime": {
     "end_time": "2023-02-11T15:33:44.522684Z",
     "start_time": "2023-02-11T15:33:40.437337Z"
    }
   },
   "outputs": [
    {
     "name": "stderr",
     "output_type": "stream",
     "text": [
      "100%|██████████| 66693/66693 [01:37<00:00, 687.23it/s]\n"
     ]
    }
   ],
   "source": [
    "for k in tqdm(range(len(dataset))):\n",
    "    dataset.loc[k,'time'] = datetime.strptime(dataset.loc[k,'time'], '%Y_%m_%d_%H_%M_%S').strftime(\"%Y-%m-%d %H:%M:%S\")"
   ]
  },
  {
   "cell_type": "code",
   "execution_count": 7,
   "id": "71ed87d5",
   "metadata": {
    "ExecuteTime": {
     "end_time": "2023-02-11T15:33:51.939968Z",
     "start_time": "2023-02-11T15:33:45.650738Z"
    }
   },
   "outputs": [
    {
     "name": "stderr",
     "output_type": "stream",
     "text": [
      "100%|██████████| 7921/7921 [00:23<00:00, 332.15it/s]\n"
     ]
    }
   ],
   "source": [
    "for k in tqdm(range(0,7921)):\n",
    "    temp_time = dataset.loc[k,'time'][:-2] + \"00\"\n",
    "    dataset.loc[k,'rainfall intensity'] = float(all_data[all_data['full_date'] == temp_time][\"intensity\"].values[0])"
   ]
  },
  {
   "cell_type": "code",
   "execution_count": 8,
   "id": "b64ac10f",
   "metadata": {
    "ExecuteTime": {
     "end_time": "2023-02-11T15:33:57.939748Z",
     "start_time": "2023-02-11T15:33:52.671572Z"
    }
   },
   "outputs": [
    {
     "name": "stderr",
     "output_type": "stream",
     "text": [
      "100%|██████████| 58772/58772 [05:17<00:00, 184.92it/s]\n"
     ]
    }
   ],
   "source": [
    "for k in tqdm(range(7921,len(dataset))):\n",
    "    temp_time = dataset.loc[k,'time']\n",
    "    \n",
    "    if len(all_data[all_data['full_date'] == temp_time][\"intensity\"]) > 0:\n",
    "        dataset.loc[k,'rainfall intensity'] = float(all_data[all_data['full_date'] == temp_time][\"intensity\"].values[0])\n",
    "\n",
    "    else:\n",
    "        dataset.loc[k,'rainfall intensity'] = np.nan"
   ]
  },
  {
   "cell_type": "code",
   "execution_count": 9,
   "id": "fc92ab3b",
   "metadata": {
    "ExecuteTime": {
     "end_time": "2023-02-11T15:34:00.623745Z",
     "start_time": "2023-02-11T15:34:00.533849Z"
    }
   },
   "outputs": [],
   "source": [
    "dataset.to_csv(r'D:\\1. 음향기반 강우관측\\Dataset\\음향 데이터\\CSV_DATASET/10sec_final_dataset_20220731_20230827.csv', encoding='cp949', index=None)"
   ]
  }
 ],
 "metadata": {
  "kernelspec": {
   "display_name": "Python 3 (ipykernel)",
   "language": "python",
   "name": "python3"
  },
  "language_info": {
   "codemirror_mode": {
    "name": "ipython",
    "version": 3
   },
   "file_extension": ".py",
   "mimetype": "text/x-python",
   "name": "python",
   "nbconvert_exporter": "python",
   "pygments_lexer": "ipython3",
   "version": "3.9.19"
  },
  "toc": {
   "base_numbering": 1,
   "nav_menu": {},
   "number_sections": true,
   "sideBar": true,
   "skip_h1_title": false,
   "title_cell": "Table of Contents",
   "title_sidebar": "Contents",
   "toc_cell": false,
   "toc_position": {},
   "toc_section_display": true,
   "toc_window_display": false
  },
  "varInspector": {
   "cols": {
    "lenName": 16,
    "lenType": 16,
    "lenVar": 40
   },
   "kernels_config": {
    "python": {
     "delete_cmd_postfix": "",
     "delete_cmd_prefix": "del ",
     "library": "var_list.py",
     "varRefreshCmd": "print(var_dic_list())"
    },
    "r": {
     "delete_cmd_postfix": ") ",
     "delete_cmd_prefix": "rm(",
     "library": "var_list.r",
     "varRefreshCmd": "cat(var_dic_list()) "
    }
   },
   "types_to_exclude": [
    "module",
    "function",
    "builtin_function_or_method",
    "instance",
    "_Feature"
   ],
   "window_display": false
  }
 },
 "nbformat": 4,
 "nbformat_minor": 5
}
