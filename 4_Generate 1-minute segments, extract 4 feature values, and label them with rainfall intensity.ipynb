{
 "cells": [
  {
   "cell_type": "markdown",
   "id": "7857e7a6",
   "metadata": {},
   "source": [
    "# Libraries"
   ]
  },
  {
   "cell_type": "code",
   "execution_count": 1,
   "id": "612a7051",
   "metadata": {
    "ExecuteTime": {
     "end_time": "2023-04-17T09:41:23.140541Z",
     "start_time": "2023-04-17T09:41:21.627229Z"
    }
   },
   "outputs": [],
   "source": [
    "import librosa\n",
    "import os\n",
    "from glob import glob\n",
    "from tqdm import tqdm\n",
    "import numpy as np\n",
    "import pandas as pd\n",
    "import datetime\n",
    "import matplotlib.pyplot as plt\n",
    "import librosa.display"
   ]
  },
  {
   "cell_type": "markdown",
   "id": "210e5332",
   "metadata": {},
   "source": [
    "# Extract data at 1 minute intervals"
   ]
  },
  {
   "cell_type": "code",
   "execution_count": 2,
   "id": "4059a458",
   "metadata": {
    "ExecuteTime": {
     "end_time": "2023-04-17T09:46:11.830892Z",
     "start_time": "2023-04-17T09:46:11.755561Z"
    }
   },
   "outputs": [],
   "source": [
    "min_list = [x[:-6]+\"00\" for x in os.listdir(r'second')]\n",
    "\n",
    "time_list = sorted(list(set(min_list)))\n",
    "\n",
    "dataset = pd.DataFrame({\"time\":time_list})"
   ]
  },
  {
   "cell_type": "code",
   "execution_count": 14,
   "id": "6194299c",
   "metadata": {
    "ExecuteTime": {
     "end_time": "2023-04-17T09:38:48.744289Z",
     "start_time": "2023-04-17T09:38:43.843207Z"
    },
    "collapsed": true
   },
   "outputs": [
    {
     "name": "stderr",
     "output_type": "stream",
     "text": [
      "100%|██████████| 2420/2420 [2:45:57<00:00,  4.11s/it]  \n"
     ]
    }
   ],
   "source": [
    "for k in tqdm(range(len(dataset))):\n",
    "\n",
    "    # Create a list of files for 1 minute\n",
    "    temp_file_list = [x for x in os.listdir(r'second') if dataset.loc[k,'time'][:-3] in x]\n",
    "\n",
    "    # Combine 1 minute of sound\n",
    "    temp_sig = np.load(r'second/'+temp_file_list[0])\n",
    "\n",
    "    for ii in range(1,len(temp_file_list)):\n",
    "        temp_sig = np.concatenate((temp_sig, np.load(r'second/'+temp_file_list[ii])))\n",
    "\n",
    "    # Create a dataset with a threshold of -20 dB and get the peak frequency, mean, and standard deviation values\n",
    "    threshold = -20\n",
    "    num_of_row = 500\n",
    "    n_fft = (num_of_row - 1) * 2\n",
    "    sr = 44100\n",
    "    hop_length = 512\n",
    "    win_length = int(44100/100)\n",
    "\n",
    "    X = librosa.stft(temp_sig, n_fft=n_fft, hop_length=hop_length, win_length=win_length, center=False)\n",
    "    mag = abs(X)\n",
    "\n",
    "    Xdb = librosa.amplitude_to_db(mag)\n",
    "\n",
    "    Xdb = np.where(Xdb > threshold, Xdb, -30)\n",
    "\n",
    "    max_freq_list = []\n",
    "\n",
    "    for x in range(Xdb.shape[1]):\n",
    "\n",
    "        for y in range(Xdb.shape[0]):\n",
    "            if Xdb[y,x] > -30:\n",
    "                max_freq = y\n",
    "        max_freq_list.append(max_freq)\n",
    "\n",
    "    dataset.loc[k,'max_frequency'] = np.mean(max_freq_list)  # average the max frequency of each window\n",
    "    \n",
    "    temp_mean_list = []\n",
    "    for row in range(Xdb.shape[0]):\n",
    "        temp_mean_list.append(np.mean(Xdb[row,:]+30)*row)\n",
    "    dataset.loc[k,'weighted mean_dB'] = np.mean(temp_mean_list) # frequency-weighted average of time series period intensity averages for each frequency\n",
    "    \n",
    "    dataset.loc[k,'mean_dB'] = np.mean(Xdb.reshape(Xdb.shape[0]*Xdb.shape[1]))\n",
    "    dataset.loc[k,'standard deviation_dB'] = np.std(Xdb.reshape(Xdb.shape[0]*Xdb.shape[1]))\n",
    "   \n",
    "    reshaped_array = Xdb.reshape(Xdb.shape[0]*Xdb.shape[1])\n",
    "    dataset.loc[k,'standard deviation_dB'] = (np.sum((reshaped_array - np.mean(reshaped_array))**2)) / (Xdb.shape[0]*Xdb.shape[1] -1 )\n",
    "\n",
    "dataset.to_csv(r'1min_unbiased standard deviation_20220731_20221128.csv', encoding='cp949', index=None)"
   ]
  },
  {
   "cell_type": "markdown",
   "id": "502e61ca",
   "metadata": {},
   "source": [
    "# Read Parsivel data"
   ]
  },
  {
   "cell_type": "code",
   "execution_count": null,
   "id": "922d108f",
   "metadata": {
    "ExecuteTime": {
     "start_time": "2023-02-19T16:20:44.728Z"
    }
   },
   "outputs": [],
   "source": [
    "date = []\n",
    "time = []\n",
    "intensity = []\n",
    "dsd = []\n",
    "\n",
    "\n",
    "with open(r\"20220731.mis\", \"r\") as f:\n",
    "    while True:\n",
    "        \n",
    "        line = f.readline()\n",
    "        if not line: break\n",
    "            \n",
    "        if line.startswith('21'):\n",
    "            date.append(line[3:-1])\n",
    "            \n",
    "        if line.startswith('20'):\n",
    "            time.append(line[3:-1])\n",
    "            \n",
    "        if line.startswith('01'):\n",
    "            intensity.append(line[3:-1])\n",
    "            \n",
    "        if line.startswith('90'):\n",
    "            dsd.append(line[3:-1])            \n",
    "\n",
    "data_23 = pd.DataFrame({'date':date, 'time':time, 'intensity':intensity, 'dsd':dsd})\n",
    "\n",
    "date = []\n",
    "time = []\n",
    "intensity = []\n",
    "dsd = []\n",
    "\n",
    "\n",
    "with open(r\"20220801.mis\", \"r\") as f:\n",
    "    while True:\n",
    "        \n",
    "        line = f.readline()\n",
    "        if not line: break\n",
    "            \n",
    "        if line.startswith('21'):\n",
    "            date.append(line[3:-1])\n",
    "            \n",
    "        if line.startswith('20'):\n",
    "            time.append(line[3:-1])\n",
    "            \n",
    "        if line.startswith('01'):\n",
    "            intensity.append(line[3:-1])\n",
    "            \n",
    "        if line.startswith('90'):\n",
    "            dsd.append(line[3:-1])            \n",
    "\n",
    "data_24 = pd.DataFrame({'date':date, 'time':time, 'intensity':intensity, 'dsd':dsd})\n",
    "\n",
    "date = []\n",
    "time = []\n",
    "intensity = []\n",
    "dsd = []\n",
    "\n",
    "\n",
    "with open(r\"20221128.mis\", \"r\") as f:\n",
    "    while True:\n",
    "        \n",
    "        line = f.readline()\n",
    "        if not line: break\n",
    "            \n",
    "        if line.startswith('21'):\n",
    "            date.append(line[3:-1])\n",
    "            \n",
    "        if line.startswith('20'):\n",
    "            time.append(line[3:-1])\n",
    "            \n",
    "        if line.startswith('01'):\n",
    "            intensity.append(line[3:-1])\n",
    "            \n",
    "        if line.startswith('90'):\n",
    "            dsd.append(line[3:-1])            \n",
    "\n",
    "data_28 = pd.DataFrame({'date':date, 'time':time, 'intensity':intensity, 'dsd':dsd})\n",
    "\n",
    "date = []\n",
    "time = []\n",
    "intensity = []\n",
    "dsd = []\n",
    "\n",
    "\n",
    "with open(r\"20221129.mis\", \"r\") as f:\n",
    "    while True:\n",
    "        \n",
    "        line = f.readline()\n",
    "        if not line: break\n",
    "            \n",
    "        if line.startswith('21'):\n",
    "            date.append(line[3:-1])\n",
    "            \n",
    "        if line.startswith('20'):\n",
    "            time.append(line[3:-1])\n",
    "            \n",
    "        if line.startswith('01'):\n",
    "            intensity.append(line[3:-1])\n",
    "            \n",
    "        if line.startswith('90'):\n",
    "            dsd.append(line[3:-1])            \n",
    "\n",
    "data_29 = pd.DataFrame({'date':date, 'time':time, 'intensity':intensity, 'dsd':dsd})\n",
    "\n",
    "date = []\n",
    "time = []\n",
    "intensity = []\n",
    "dsd = []\n",
    "\n",
    "\n",
    "\n",
    "all_data = pd.concat([data_23,data_24])\n",
    "all_data = pd.concat([all_data,data_28])\n",
    "all_data = pd.concat([all_data,data_29])\n",
    "all_data.reset_index(inplace=True, drop=True)\n",
    "\n",
    "for k in range(len(all_data)):\n",
    "    \n",
    "    date = all_data['date'][k] + ' ' + all_data['time'][k]\n",
    "    full_date = str(datetime.datetime.strptime(date, \"%d.%m.%Y %H:%M:%S\"))\n",
    "    all_data.loc[k, 'full_date'] = full_date"
   ]
  },
  {
   "cell_type": "markdown",
   "id": "1a77a067",
   "metadata": {},
   "source": [
    "# Add a wavelength observation to the dataset"
   ]
  },
  {
   "cell_type": "code",
   "execution_count": null,
   "id": "de128b72",
   "metadata": {
    "ExecuteTime": {
     "start_time": "2023-02-19T16:20:44.728Z"
    }
   },
   "outputs": [],
   "source": [
    "dataset = pd.read_csv(r'XGBoost train/min_dataset_20220731_20221128.csv', encoding='cp949')"
   ]
  },
  {
   "cell_type": "code",
   "execution_count": null,
   "id": "dfaa3dac",
   "metadata": {
    "ExecuteTime": {
     "start_time": "2023-02-19T16:20:44.729Z"
    }
   },
   "outputs": [],
   "source": [
    "for k in range(len(dataset)):\n",
    "    dataset.loc[k,'time'] = datetime.datetime.strptime(dataset.loc[k,'time'], '%Y_%m_%d_%H_%M_%S').strftime(\"%Y-%m-%d %H:%M:%S\")"
   ]
  },
  {
   "cell_type": "code",
   "execution_count": null,
   "id": "de77c981",
   "metadata": {
    "ExecuteTime": {
     "start_time": "2023-02-19T16:20:44.729Z"
    }
   },
   "outputs": [],
   "source": [
    "for k in tqdm(range(len(dataset))):\n",
    "    temp_time = dataset.loc[k,'time']\n",
    "    min_rainfall_intensity = np.mean(all_data[all_data['full_date'].str.contains(temp_time[:-3])]['intensity'].values.astype(float))\n",
    "    dataset.loc[k,'rainfall intensity'] = min_rainfall_intensity"
   ]
  },
  {
   "cell_type": "code",
   "execution_count": null,
   "id": "fc92ab3b",
   "metadata": {
    "ExecuteTime": {
     "start_time": "2023-02-19T16:20:44.730Z"
    }
   },
   "outputs": [],
   "source": [
    "dataset.to_csv(r'XGBoost train/min_Final_dataset_20220731_20221128.csv', encoding='cp949', index=None)"
   ]
  }
 ],
 "metadata": {
  "kernelspec": {
   "display_name": "Python 3 (ipykernel)",
   "language": "python",
   "name": "python3"
  },
  "language_info": {
   "codemirror_mode": {
    "name": "ipython",
    "version": 3
   },
   "file_extension": ".py",
   "mimetype": "text/x-python",
   "name": "python",
   "nbconvert_exporter": "python",
   "pygments_lexer": "ipython3",
   "version": "3.9.19"
  },
  "toc": {
   "base_numbering": 1,
   "nav_menu": {},
   "number_sections": true,
   "sideBar": true,
   "skip_h1_title": false,
   "title_cell": "Table of Contents",
   "title_sidebar": "Contents",
   "toc_cell": false,
   "toc_position": {},
   "toc_section_display": true,
   "toc_window_display": false
  },
  "varInspector": {
   "cols": {
    "lenName": 16,
    "lenType": 16,
    "lenVar": 40
   },
   "kernels_config": {
    "python": {
     "delete_cmd_postfix": "",
     "delete_cmd_prefix": "del ",
     "library": "var_list.py",
     "varRefreshCmd": "print(var_dic_list())"
    },
    "r": {
     "delete_cmd_postfix": ") ",
     "delete_cmd_prefix": "rm(",
     "library": "var_list.r",
     "varRefreshCmd": "cat(var_dic_list()) "
    }
   },
   "types_to_exclude": [
    "module",
    "function",
    "builtin_function_or_method",
    "instance",
    "_Feature"
   ],
   "window_display": false
  }
 },
 "nbformat": 4,
 "nbformat_minor": 5
}
