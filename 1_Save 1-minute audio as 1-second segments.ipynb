{
 "cells": [
  {
   "cell_type": "code",
   "execution_count": 1,
   "id": "e060a08e",
   "metadata": {
    "ExecuteTime": {
     "end_time": "2023-03-17T04:08:13.065364Z",
     "start_time": "2023-03-17T04:08:12.120366Z"
    }
   },
   "outputs": [],
   "source": [
    "import librosa\n",
    "from glob import glob\n",
    "from tqdm import tqdm\n",
    "import numpy as np\n",
    "import datetime"
   ]
  },
  {
   "cell_type": "code",
   "execution_count": 2,
   "id": "ee67ca7a",
   "metadata": {},
   "outputs": [],
   "source": [
    "dic_list = glob(r'D:\\1. 음향기반 강우관측\\Dataset\\음향 데이터\\20221128-20221129\\sound file_1128/*')"
   ]
  },
  {
   "cell_type": "code",
   "execution_count": 3,
   "id": "f4f1202f",
   "metadata": {},
   "outputs": [
    {
     "data": {
      "text/plain": [
       "['F:\\\\##강우음향자료\\\\01.중앙대학교207관옥상\\\\01.actto_(분해된마이크)\\\\#20230810-20230811',\n",
       " 'F:\\\\##강우음향자료\\\\01.중앙대학교207관옥상\\\\01.actto_(분해된마이크)\\\\#20230822-20230827',\n",
       " 'F:\\\\##강우음향자료\\\\01.중앙대학교207관옥상\\\\01.actto_(분해된마이크)\\\\#20230827-20230901',\n",
       " 'F:\\\\##강우음향자료\\\\01.중앙대학교207관옥상\\\\01.actto_(분해된마이크)\\\\#20230903-20230905',\n",
       " 'F:\\\\##강우음향자료\\\\01.중앙대학교207관옥상\\\\01.actto_(분해된마이크)\\\\#20230913-20230918',\n",
       " 'F:\\\\##강우음향자료\\\\01.중앙대학교207관옥상\\\\01.actto_(분해된마이크)\\\\1sec_array']"
      ]
     },
     "execution_count": 3,
     "metadata": {},
     "output_type": "execute_result"
    }
   ],
   "source": [
    "dic_list"
   ]
  },
  {
   "cell_type": "code",
   "execution_count": 4,
   "id": "7d537264",
   "metadata": {},
   "outputs": [
    {
     "name": "stderr",
     "output_type": "stream",
     "text": [
      "100%|██████████| 1408/1408 [04:02<00:00,  5.81it/s]\n",
      "100%|██████████| 7268/7268 [20:56<00:00,  5.78it/s]\n",
      "100%|██████████| 7039/7039 [20:29<00:00,  5.72it/s]\n",
      "100%|██████████| 2538/2538 [07:25<00:00,  5.70it/s]\n",
      "100%|██████████| 7325/7325 [21:23<00:00,  5.71it/s]\n",
      "0it [00:00, ?it/s]\n"
     ]
    }
   ],
   "source": [
    "for dic_path in dic_list:\n",
    "\n",
    "    file_list = [x for x in glob(dic_path+\"/*.wav\")]\n",
    "\n",
    "    for file in tqdm(file_list):\n",
    "\n",
    "        sig, sampling_rate = librosa.load(file, sr=44100)\n",
    "\n",
    "        start_time = datetime.datetime.strptime(file[-23:-4], '%Y_%m_%d_%H_%M_%S')\n",
    "\n",
    "        for sec in range(0,59):\n",
    "\n",
    "            temp_sig = sig[(sec)*sampling_rate:(sec+1)*sampling_rate]\n",
    "\n",
    "            time = start_time+datetime.timedelta(seconds=sec)\n",
    "            time_str = time.strftime(\"%Y_%m_%d_%H_%M_%S\")\n",
    "\n",
    "            np.save(r'D:\\1. 음향기반 강우관측\\Dataset\\음향 데이터\\음향자료_초단위/{}.npy'.format(time_str), temp_sig)\n",
    "\n",
    "\n",
    "\n",
    "        #sec == 59인 경우 padding\n",
    "        temp_sig = sig[59*sampling_rate:]\n",
    "        padded_sig = np.concatenate((temp_sig, temp_sig[-4080:]))\n",
    "\n",
    "        time = start_time+datetime.timedelta(seconds=59)\n",
    "        time_str = time.strftime(\"%Y_%m_%d_%H_%M_%S\")\n",
    "\n",
    "        np.save(r'D:\\1. 음향기반 강우관측\\Dataset\\음향 데이터\\음향자료_초단위/{}.npy'.format(time_str), padded_sig)"
   ]
  }
 ],
 "metadata": {
  "kernelspec": {
   "display_name": "Python 3 (ipykernel)",
   "language": "python",
   "name": "python3"
  },
  "language_info": {
   "codemirror_mode": {
    "name": "ipython",
    "version": 3
   },
   "file_extension": ".py",
   "mimetype": "text/x-python",
   "name": "python",
   "nbconvert_exporter": "python",
   "pygments_lexer": "ipython3",
   "version": "3.9.19"
  },
  "toc": {
   "base_numbering": 1,
   "nav_menu": {},
   "number_sections": true,
   "sideBar": true,
   "skip_h1_title": false,
   "title_cell": "Table of Contents",
   "title_sidebar": "Contents",
   "toc_cell": false,
   "toc_position": {},
   "toc_section_display": true,
   "toc_window_display": false
  },
  "varInspector": {
   "cols": {
    "lenName": 16,
    "lenType": 16,
    "lenVar": 40
   },
   "kernels_config": {
    "python": {
     "delete_cmd_postfix": "",
     "delete_cmd_prefix": "del ",
     "library": "var_list.py",
     "varRefreshCmd": "print(var_dic_list())"
    },
    "r": {
     "delete_cmd_postfix": ") ",
     "delete_cmd_prefix": "rm(",
     "library": "var_list.r",
     "varRefreshCmd": "cat(var_dic_list()) "
    }
   },
   "types_to_exclude": [
    "module",
    "function",
    "builtin_function_or_method",
    "instance",
    "_Feature"
   ],
   "window_display": false
  }
 },
 "nbformat": 4,
 "nbformat_minor": 5
}
