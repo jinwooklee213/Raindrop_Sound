{
 "cells": [
  {
   "cell_type": "markdown",
   "id": "7857e7a6",
   "metadata": {},
   "source": [
    "# 라이브러리"
   ]
  },
  {
   "cell_type": "code",
   "execution_count": 1,
   "id": "612a7051",
   "metadata": {
    "ExecuteTime": {
     "end_time": "2023-03-07T00:45:13.086910Z",
     "start_time": "2023-03-07T00:45:11.511917Z"
    }
   },
   "outputs": [],
   "source": [
    "import librosa\n",
    "import os\n",
    "from glob import glob\n",
    "from tqdm import tqdm\n",
    "import numpy as np\n",
    "import pandas as pd\n",
    "import datetime\n",
    "import matplotlib.pyplot as plt"
   ]
  },
  {
   "cell_type": "markdown",
   "id": "210e5332",
   "metadata": {},
   "source": [
    "# 1초 간격 데이터 추출"
   ]
  },
  {
   "cell_type": "code",
   "execution_count": 2,
   "id": "6b2e33f8",
   "metadata": {
    "ExecuteTime": {
     "end_time": "2023-03-06T15:52:09.405025Z",
     "start_time": "2023-03-06T15:52:09.346799Z"
    }
   },
   "outputs": [
    {
     "name": "stdout",
     "output_type": "stream",
     "text": [
      "2022_07_31_15_28_50.npy\n",
      "2022_11_29_11_17_27.npy\n"
     ]
    }
   ],
   "source": [
    "file_list = os.listdir(r'D:\\1. 음향기반 강우관측\\Dataset\\음향 데이터\\음향자료_초단위')\n",
    "print(file_list[0])\n",
    "print(file_list[-1])"
   ]
  },
  {
   "cell_type": "code",
   "execution_count": 3,
   "id": "561cc9bb",
   "metadata": {
    "ExecuteTime": {
     "end_time": "2023-03-06T18:25:03.901179Z",
     "start_time": "2023-03-06T15:52:11.288413Z"
    }
   },
   "outputs": [
    {
     "name": "stderr",
     "output_type": "stream",
     "text": [
      "  0%|          | 0/144769 [00:00<?, ?it/s]"
     ]
    },
    {
     "name": "stderr",
     "output_type": "stream",
     "text": [
      "100%|██████████| 144769/144769 [32:57<00:00, 73.22it/s]\n"
     ]
    }
   ],
   "source": [
    "dataset = pd.DataFrame()\n",
    "\n",
    "for k in tqdm(range(len(file_list))):\n",
    "\n",
    "    sig = np.load(r'D:\\1. 음향기반 강우관측\\Dataset\\음향 데이터\\음향자료_초단위/'+file_list[k])\n",
    "\n",
    "    # threshold -20dB 주고, 최고주파수, 평균, 표준편차 값 구하여 dataset 만들기\n",
    "    threshold = -20\n",
    "    num_of_row = 500\n",
    "    n_fft = (num_of_row - 1) * 2\n",
    "    sr = 44100\n",
    "    hop_length = 512\n",
    "    win_length = int(44100/100)\n",
    "\n",
    "    X = librosa.stft(sig, n_fft=n_fft, hop_length=hop_length, win_length=win_length, center=False)\n",
    "    mag = abs(X)\n",
    "\n",
    "    Xdb = librosa.amplitude_to_db(mag)\n",
    "\n",
    "    Xdb = np.where(Xdb > threshold, Xdb, -30)\n",
    "\n",
    "    max_freq_list = []\n",
    "\n",
    "    for x in range(Xdb.shape[1]):\n",
    "\n",
    "        for y in range(Xdb.shape[0]):\n",
    "            if Xdb[y,x] > -30:\n",
    "                max_freq = y\n",
    "        max_freq_list.append(max_freq)\n",
    "\n",
    "    max_frequency = np.mean(max_freq_list)  # 각 window의 max frequency의 평균\n",
    "\n",
    "    temp_mean_list = []\n",
    "    for row in range(Xdb.shape[0]):\n",
    "        temp_mean_list.append(np.mean(Xdb[row,:]+30)*row)\n",
    "    weighted_mean_dB = np.mean(temp_mean_list) # 각 frequency별 시계열 주기 세기 평균값에 대한 frequency 가중치 평균\n",
    "\n",
    "    mean_dB = np.mean(Xdb.reshape(Xdb.shape[0]*Xdb.shape[1]))\n",
    "    standard_deviation_dB = np.std(Xdb.reshape(Xdb.shape[0]*Xdb.shape[1]))\n",
    "    reshaped_array = Xdb.reshape(Xdb.shape[0]*Xdb.shape[1])\n",
    "    standard_deviation_dB = (np.sum((reshaped_array - np.mean(reshaped_array))**2)) / (Xdb.shape[0]*Xdb.shape[1] -1 )\n",
    "\n",
    "    time = datetime.datetime.strptime(file_list[k][:-4], '%Y_%m_%d_%H_%M_%S').strftime(\"%Y-%m-%d %H:%M:%S\")\n",
    "\n",
    "    temp_dataset = pd.DataFrame({'Time':time,'max_frequency':max_frequency, 'mean_dB':mean_dB,'weighted mean_dB':weighted_mean_dB, 'standard deviation_dB':standard_deviation_dB},index=[k])\n",
    "\n",
    "    dataset = pd.concat([dataset, temp_dataset])\n",
    "\n",
    "\n",
    "dataset.to_csv(r'D:\\1. 음향기반 강우관측\\Dataset\\음향 데이터\\20220731_20221128 데이터셋\\XGBoost 학습 데이터셋/unbiased standard deviation_20220731_20221128.csv', encoding='cp949', index=None)"
   ]
  },
  {
   "cell_type": "code",
   "execution_count": 4,
   "id": "23e5dd2d",
   "metadata": {},
   "outputs": [],
   "source": [
    "dataset.to_csv(r'D:\\1. 음향기반 강우관측\\Dataset\\음향 데이터\\20220731_20221128 데이터셋\\XGBoost 학습 데이터셋/1sec_unbiased standard deviation_20220731_20221128.csv', encoding='cp949', index=None)"
   ]
  },
  {
   "cell_type": "markdown",
   "id": "502e61ca",
   "metadata": {},
   "source": [
    "# Parsivel 데이터 read"
   ]
  },
  {
   "cell_type": "code",
   "execution_count": 2,
   "id": "922d108f",
   "metadata": {
    "ExecuteTime": {
     "end_time": "2023-03-07T00:45:18.352693Z",
     "start_time": "2023-03-07T00:45:16.927534Z"
    }
   },
   "outputs": [],
   "source": [
    "date = []\n",
    "time = []\n",
    "intensity = []\n",
    "dsd = []\n",
    "\n",
    "\n",
    "with open(r\"D:\\1. 음향기반 강우관측\\Dataset\\음향 데이터\\20220731\\20220731.mis\", \"r\") as f:\n",
    "    while True:\n",
    "        \n",
    "        line = f.readline()\n",
    "        if not line: break\n",
    "            \n",
    "        if line.startswith('21'):\n",
    "            date.append(line[3:-1])\n",
    "            \n",
    "        if line.startswith('20'):\n",
    "            time.append(line[3:-1])\n",
    "            \n",
    "        if line.startswith('01'):\n",
    "            intensity.append(line[3:-1])\n",
    "            \n",
    "        if line.startswith('90'):\n",
    "            dsd.append(line[3:-1])            \n",
    "\n",
    "data_23 = pd.DataFrame({'date':date, 'time':time, 'intensity':intensity, 'dsd':dsd})\n",
    "\n",
    "date = []\n",
    "time = []\n",
    "intensity = []\n",
    "dsd = []\n",
    "\n",
    "\n",
    "with open(r\"D:\\1. 음향기반 강우관측\\Dataset\\음향 데이터\\20220731\\20220801.mis\", \"r\") as f:\n",
    "    while True:\n",
    "        \n",
    "        line = f.readline()\n",
    "        if not line: break\n",
    "            \n",
    "        if line.startswith('21'):\n",
    "            date.append(line[3:-1])\n",
    "            \n",
    "        if line.startswith('20'):\n",
    "            time.append(line[3:-1])\n",
    "            \n",
    "        if line.startswith('01'):\n",
    "            intensity.append(line[3:-1])\n",
    "            \n",
    "        if line.startswith('90'):\n",
    "            dsd.append(line[3:-1])            \n",
    "\n",
    "data_24 = pd.DataFrame({'date':date, 'time':time, 'intensity':intensity, 'dsd':dsd})\n",
    "\n",
    "date = []\n",
    "time = []\n",
    "intensity = []\n",
    "dsd = []\n",
    "\n",
    "\n",
    "with open(r\"D:\\1. 음향기반 강우관측\\Dataset\\음향 데이터\\20221128-20221129\\20221128.mis\", \"r\") as f:\n",
    "    while True:\n",
    "        \n",
    "        line = f.readline()\n",
    "        if not line: break\n",
    "            \n",
    "        if line.startswith('21'):\n",
    "            date.append(line[3:-1])\n",
    "            \n",
    "        if line.startswith('20'):\n",
    "            time.append(line[3:-1])\n",
    "            \n",
    "        if line.startswith('01'):\n",
    "            intensity.append(line[3:-1])\n",
    "            \n",
    "        if line.startswith('90'):\n",
    "            dsd.append(line[3:-1])            \n",
    "\n",
    "data_28 = pd.DataFrame({'date':date, 'time':time, 'intensity':intensity, 'dsd':dsd})\n",
    "\n",
    "date = []\n",
    "time = []\n",
    "intensity = []\n",
    "dsd = []\n",
    "\n",
    "\n",
    "with open(r\"D:\\1. 음향기반 강우관측\\Dataset\\음향 데이터\\20221128-20221129\\20221129.mis\", \"r\") as f:\n",
    "    while True:\n",
    "        \n",
    "        line = f.readline()\n",
    "        if not line: break\n",
    "            \n",
    "        if line.startswith('21'):\n",
    "            date.append(line[3:-1])\n",
    "            \n",
    "        if line.startswith('20'):\n",
    "            time.append(line[3:-1])\n",
    "            \n",
    "        if line.startswith('01'):\n",
    "            intensity.append(line[3:-1])\n",
    "            \n",
    "        if line.startswith('90'):\n",
    "            dsd.append(line[3:-1])            \n",
    "\n",
    "data_29 = pd.DataFrame({'date':date, 'time':time, 'intensity':intensity, 'dsd':dsd})\n",
    "\n",
    "date = []\n",
    "time = []\n",
    "intensity = []\n",
    "dsd = []\n",
    "\n",
    "\n",
    "\n",
    "all_data = pd.concat([data_23,data_24])\n",
    "all_data = pd.concat([all_data,data_28])\n",
    "all_data = pd.concat([all_data,data_29])\n",
    "all_data.reset_index(inplace=True, drop=True)\n",
    "\n",
    "for k in range(len(all_data)):\n",
    "    \n",
    "    date = all_data['date'][k] + ' ' + all_data['time'][k]\n",
    "    full_date = str(datetime.datetime.strptime(date, \"%d.%m.%Y %H:%M:%S\"))\n",
    "    all_data.loc[k, 'full_date'] = full_date"
   ]
  },
  {
   "cell_type": "code",
   "execution_count": 3,
   "id": "6feeb977",
   "metadata": {
    "ExecuteTime": {
     "end_time": "2023-03-07T00:45:24.917223Z",
     "start_time": "2023-03-07T00:45:24.902447Z"
    }
   },
   "outputs": [
    {
     "data": {
      "text/html": [
       "<div>\n",
       "<style scoped>\n",
       "    .dataframe tbody tr th:only-of-type {\n",
       "        vertical-align: middle;\n",
       "    }\n",
       "\n",
       "    .dataframe tbody tr th {\n",
       "        vertical-align: top;\n",
       "    }\n",
       "\n",
       "    .dataframe thead th {\n",
       "        text-align: right;\n",
       "    }\n",
       "</style>\n",
       "<table border=\"1\" class=\"dataframe\">\n",
       "  <thead>\n",
       "    <tr style=\"text-align: right;\">\n",
       "      <th></th>\n",
       "      <th>date</th>\n",
       "      <th>time</th>\n",
       "      <th>intensity</th>\n",
       "      <th>dsd</th>\n",
       "      <th>full_date</th>\n",
       "    </tr>\n",
       "  </thead>\n",
       "  <tbody>\n",
       "    <tr>\n",
       "      <th>0</th>\n",
       "      <td>31.07.2022</td>\n",
       "      <td>00:00:00</td>\n",
       "      <td>0000.000</td>\n",
       "      <td>-9.999;-9.999;-9.999;-9.999;-9.999;-9.999;-9.9...</td>\n",
       "      <td>2022-07-31 00:00:00</td>\n",
       "    </tr>\n",
       "    <tr>\n",
       "      <th>1</th>\n",
       "      <td>31.07.2022</td>\n",
       "      <td>00:01:00</td>\n",
       "      <td>0000.000</td>\n",
       "      <td>-9.999;-9.999;-9.999;-9.999;-9.999;-9.999;-9.9...</td>\n",
       "      <td>2022-07-31 00:01:00</td>\n",
       "    </tr>\n",
       "    <tr>\n",
       "      <th>2</th>\n",
       "      <td>31.07.2022</td>\n",
       "      <td>00:02:00</td>\n",
       "      <td>0000.000</td>\n",
       "      <td>-9.999;-9.999;-9.999;-9.999;-9.999;-9.999;-9.9...</td>\n",
       "      <td>2022-07-31 00:02:00</td>\n",
       "    </tr>\n",
       "    <tr>\n",
       "      <th>3</th>\n",
       "      <td>31.07.2022</td>\n",
       "      <td>00:03:00</td>\n",
       "      <td>0000.000</td>\n",
       "      <td>-9.999;-9.999;-9.999;-9.999;-9.999;-9.999;-9.9...</td>\n",
       "      <td>2022-07-31 00:03:00</td>\n",
       "    </tr>\n",
       "    <tr>\n",
       "      <th>4</th>\n",
       "      <td>31.07.2022</td>\n",
       "      <td>00:04:00</td>\n",
       "      <td>0000.000</td>\n",
       "      <td>-9.999;-9.999;-9.999;-9.999;-9.999;-9.999;-9.9...</td>\n",
       "      <td>2022-07-31 00:04:00</td>\n",
       "    </tr>\n",
       "    <tr>\n",
       "      <th>...</th>\n",
       "      <td>...</td>\n",
       "      <td>...</td>\n",
       "      <td>...</td>\n",
       "      <td>...</td>\n",
       "      <td>...</td>\n",
       "    </tr>\n",
       "    <tr>\n",
       "      <th>13771</th>\n",
       "      <td>29.11.2022</td>\n",
       "      <td>16:05:00</td>\n",
       "      <td>0000.000</td>\n",
       "      <td>-9.999;-9.999;-9.999;-9.999;-9.999;-9.999;-9.9...</td>\n",
       "      <td>2022-11-29 16:05:00</td>\n",
       "    </tr>\n",
       "    <tr>\n",
       "      <th>13772</th>\n",
       "      <td>29.11.2022</td>\n",
       "      <td>16:05:10</td>\n",
       "      <td>0000.000</td>\n",
       "      <td>-9.999;-9.999;-9.999;-9.999;-9.999;-9.999;-9.9...</td>\n",
       "      <td>2022-11-29 16:05:10</td>\n",
       "    </tr>\n",
       "    <tr>\n",
       "      <th>13773</th>\n",
       "      <td>29.11.2022</td>\n",
       "      <td>16:05:20</td>\n",
       "      <td>0000.000</td>\n",
       "      <td>-9.999;-9.999;-9.999;-9.999;-9.999;-9.999;-9.9...</td>\n",
       "      <td>2022-11-29 16:05:20</td>\n",
       "    </tr>\n",
       "    <tr>\n",
       "      <th>13774</th>\n",
       "      <td>29.11.2022</td>\n",
       "      <td>16:05:30</td>\n",
       "      <td>0000.000</td>\n",
       "      <td>-9.999;-9.999;-9.999;-9.999;-9.999;-9.999;-9.9...</td>\n",
       "      <td>2022-11-29 16:05:30</td>\n",
       "    </tr>\n",
       "    <tr>\n",
       "      <th>13775</th>\n",
       "      <td>29.11.2022</td>\n",
       "      <td>16:05:40</td>\n",
       "      <td>0000.000</td>\n",
       "      <td>-9.999;-9.999;-9.999;-9.999;-9.999;-9.999;-9.9...</td>\n",
       "      <td>2022-11-29 16:05:40</td>\n",
       "    </tr>\n",
       "  </tbody>\n",
       "</table>\n",
       "<p>13776 rows × 5 columns</p>\n",
       "</div>"
      ],
      "text/plain": [
       "             date      time intensity  \\\n",
       "0      31.07.2022  00:00:00  0000.000   \n",
       "1      31.07.2022  00:01:00  0000.000   \n",
       "2      31.07.2022  00:02:00  0000.000   \n",
       "3      31.07.2022  00:03:00  0000.000   \n",
       "4      31.07.2022  00:04:00  0000.000   \n",
       "...           ...       ...       ...   \n",
       "13771  29.11.2022  16:05:00  0000.000   \n",
       "13772  29.11.2022  16:05:10  0000.000   \n",
       "13773  29.11.2022  16:05:20  0000.000   \n",
       "13774  29.11.2022  16:05:30  0000.000   \n",
       "13775  29.11.2022  16:05:40  0000.000   \n",
       "\n",
       "                                                     dsd            full_date  \n",
       "0      -9.999;-9.999;-9.999;-9.999;-9.999;-9.999;-9.9...  2022-07-31 00:00:00  \n",
       "1      -9.999;-9.999;-9.999;-9.999;-9.999;-9.999;-9.9...  2022-07-31 00:01:00  \n",
       "2      -9.999;-9.999;-9.999;-9.999;-9.999;-9.999;-9.9...  2022-07-31 00:02:00  \n",
       "3      -9.999;-9.999;-9.999;-9.999;-9.999;-9.999;-9.9...  2022-07-31 00:03:00  \n",
       "4      -9.999;-9.999;-9.999;-9.999;-9.999;-9.999;-9.9...  2022-07-31 00:04:00  \n",
       "...                                                  ...                  ...  \n",
       "13771  -9.999;-9.999;-9.999;-9.999;-9.999;-9.999;-9.9...  2022-11-29 16:05:00  \n",
       "13772  -9.999;-9.999;-9.999;-9.999;-9.999;-9.999;-9.9...  2022-11-29 16:05:10  \n",
       "13773  -9.999;-9.999;-9.999;-9.999;-9.999;-9.999;-9.9...  2022-11-29 16:05:20  \n",
       "13774  -9.999;-9.999;-9.999;-9.999;-9.999;-9.999;-9.9...  2022-11-29 16:05:30  \n",
       "13775  -9.999;-9.999;-9.999;-9.999;-9.999;-9.999;-9.9...  2022-11-29 16:05:40  \n",
       "\n",
       "[13776 rows x 5 columns]"
      ]
     },
     "execution_count": 3,
     "metadata": {},
     "output_type": "execute_result"
    }
   ],
   "source": [
    "all_data"
   ]
  },
  {
   "cell_type": "markdown",
   "id": "1a77a067",
   "metadata": {},
   "source": [
    "# dataset에 파시벨 관측값 추가"
   ]
  },
  {
   "cell_type": "code",
   "execution_count": 4,
   "id": "de128b72",
   "metadata": {
    "ExecuteTime": {
     "end_time": "2023-03-07T00:45:28.074036Z",
     "start_time": "2023-03-07T00:45:27.943796Z"
    }
   },
   "outputs": [],
   "source": [
    "dataset = pd.read_csv(r'D:\\1. 음향기반 강우관측\\Dataset\\음향 데이터\\20220731_20221128 데이터셋\\XGBoost 학습 데이터셋/sec_dataset_20220731_20221128.csv', encoding='cp949')"
   ]
  },
  {
   "cell_type": "code",
   "execution_count": 5,
   "id": "2f55f43d",
   "metadata": {
    "ExecuteTime": {
     "end_time": "2023-03-07T00:46:23.126311Z",
     "start_time": "2023-03-07T00:45:30.004586Z"
    }
   },
   "outputs": [
    {
     "name": "stderr",
     "output_type": "stream",
     "text": [
      "100%|██████████████████████████████████████████████████████████████████████████| 79009/79009 [00:53<00:00, 1487.49it/s]\n"
     ]
    }
   ],
   "source": [
    "for k in tqdm(range(79009)):\n",
    "    temp_time = dataset.iloc[k,0][:-3]\n",
    "    dataset.loc[k,'rainfall_intensity'] = float(all_data[all_data['full_date']==temp_time+\":00\"]['intensity'].values[0])"
   ]
  },
  {
   "cell_type": "code",
   "execution_count": 6,
   "id": "33ca45f6",
   "metadata": {
    "ExecuteTime": {
     "end_time": "2023-03-07T00:47:09.231327Z",
     "start_time": "2023-03-07T00:46:23.127662Z"
    }
   },
   "outputs": [
    {
     "name": "stderr",
     "output_type": "stream",
     "text": [
      "100%|██████████████████████████████████████████████████████████████████████████| 65760/65760 [00:46<00:00, 1427.02it/s]\n"
     ]
    }
   ],
   "source": [
    "for k in tqdm(range(79009,len(dataset))):\n",
    "    temp_time = dataset.iloc[k,0][:-1]\n",
    "    dataset.loc[k,'rainfall_intensity'] = float(all_data[all_data['full_date']==temp_time+\"0\"]['intensity'].values[0])"
   ]
  },
  {
   "cell_type": "code",
   "execution_count": 7,
   "id": "fc92ab3b",
   "metadata": {
    "ExecuteTime": {
     "end_time": "2023-03-07T00:47:09.777076Z",
     "start_time": "2023-03-07T00:47:09.232065Z"
    }
   },
   "outputs": [],
   "source": [
    "dataset.to_csv(r'D:\\1. 음향기반 강우관측\\Dataset\\음향 데이터\\20220731_20221128 데이터셋\\XGBoost 학습 데이터셋/sec_Final_dataset_20220731_20221128.csv', encoding='cp949', index=None)"
   ]
  },
  {
   "cell_type": "code",
   "execution_count": 8,
   "id": "73f3084c",
   "metadata": {
    "ExecuteTime": {
     "end_time": "2023-03-07T00:47:09.799079Z",
     "start_time": "2023-03-07T00:47:09.778576Z"
    }
   },
   "outputs": [
    {
     "data": {
      "text/html": [
       "<div>\n",
       "<style scoped>\n",
       "    .dataframe tbody tr th:only-of-type {\n",
       "        vertical-align: middle;\n",
       "    }\n",
       "\n",
       "    .dataframe tbody tr th {\n",
       "        vertical-align: top;\n",
       "    }\n",
       "\n",
       "    .dataframe thead th {\n",
       "        text-align: right;\n",
       "    }\n",
       "</style>\n",
       "<table border=\"1\" class=\"dataframe\">\n",
       "  <thead>\n",
       "    <tr style=\"text-align: right;\">\n",
       "      <th></th>\n",
       "      <th>Time</th>\n",
       "      <th>max_frequency</th>\n",
       "      <th>mean_dB</th>\n",
       "      <th>weighted mean_dB</th>\n",
       "      <th>standard deviation_dB</th>\n",
       "      <th>rainfall_intensity</th>\n",
       "    </tr>\n",
       "  </thead>\n",
       "  <tbody>\n",
       "    <tr>\n",
       "      <th>0</th>\n",
       "      <td>2022-07-31 15:28:50</td>\n",
       "      <td>36.458824</td>\n",
       "      <td>-28.577541</td>\n",
       "      <td>19.061265</td>\n",
       "      <td>6.606345</td>\n",
       "      <td>2.73</td>\n",
       "    </tr>\n",
       "    <tr>\n",
       "      <th>1</th>\n",
       "      <td>2022-07-31 15:28:51</td>\n",
       "      <td>38.988235</td>\n",
       "      <td>-28.565939</td>\n",
       "      <td>20.592349</td>\n",
       "      <td>6.589163</td>\n",
       "      <td>2.73</td>\n",
       "    </tr>\n",
       "    <tr>\n",
       "      <th>2</th>\n",
       "      <td>2022-07-31 15:28:52</td>\n",
       "      <td>36.494118</td>\n",
       "      <td>-28.618690</td>\n",
       "      <td>17.710003</td>\n",
       "      <td>6.453218</td>\n",
       "      <td>2.73</td>\n",
       "    </tr>\n",
       "    <tr>\n",
       "      <th>3</th>\n",
       "      <td>2022-07-31 15:28:53</td>\n",
       "      <td>38.388235</td>\n",
       "      <td>-28.580723</td>\n",
       "      <td>18.628749</td>\n",
       "      <td>6.565817</td>\n",
       "      <td>2.73</td>\n",
       "    </tr>\n",
       "    <tr>\n",
       "      <th>4</th>\n",
       "      <td>2022-07-31 15:28:54</td>\n",
       "      <td>39.870588</td>\n",
       "      <td>-28.440966</td>\n",
       "      <td>25.889718</td>\n",
       "      <td>6.837772</td>\n",
       "      <td>2.73</td>\n",
       "    </tr>\n",
       "    <tr>\n",
       "      <th>...</th>\n",
       "      <td>...</td>\n",
       "      <td>...</td>\n",
       "      <td>...</td>\n",
       "      <td>...</td>\n",
       "      <td>...</td>\n",
       "      <td>...</td>\n",
       "    </tr>\n",
       "    <tr>\n",
       "      <th>144764</th>\n",
       "      <td>2022-11-29 11:17:23</td>\n",
       "      <td>32.717647</td>\n",
       "      <td>-28.865934</td>\n",
       "      <td>10.276520</td>\n",
       "      <td>6.112510</td>\n",
       "      <td>0.00</td>\n",
       "    </tr>\n",
       "    <tr>\n",
       "      <th>144765</th>\n",
       "      <td>2022-11-29 11:17:24</td>\n",
       "      <td>32.188235</td>\n",
       "      <td>-28.905144</td>\n",
       "      <td>9.820954</td>\n",
       "      <td>5.932460</td>\n",
       "      <td>0.00</td>\n",
       "    </tr>\n",
       "    <tr>\n",
       "      <th>144766</th>\n",
       "      <td>2022-11-29 11:17:25</td>\n",
       "      <td>31.258824</td>\n",
       "      <td>-28.879877</td>\n",
       "      <td>9.632522</td>\n",
       "      <td>6.091518</td>\n",
       "      <td>0.00</td>\n",
       "    </tr>\n",
       "    <tr>\n",
       "      <th>144767</th>\n",
       "      <td>2022-11-29 11:17:26</td>\n",
       "      <td>30.741176</td>\n",
       "      <td>-28.918146</td>\n",
       "      <td>8.859020</td>\n",
       "      <td>6.002291</td>\n",
       "      <td>0.00</td>\n",
       "    </tr>\n",
       "    <tr>\n",
       "      <th>144768</th>\n",
       "      <td>2022-11-29 11:17:27</td>\n",
       "      <td>32.482353</td>\n",
       "      <td>-28.824047</td>\n",
       "      <td>15.246189</td>\n",
       "      <td>6.265244</td>\n",
       "      <td>0.00</td>\n",
       "    </tr>\n",
       "  </tbody>\n",
       "</table>\n",
       "<p>144769 rows × 6 columns</p>\n",
       "</div>"
      ],
      "text/plain": [
       "                       Time  max_frequency    mean_dB  weighted mean_dB  \\\n",
       "0       2022-07-31 15:28:50      36.458824 -28.577541         19.061265   \n",
       "1       2022-07-31 15:28:51      38.988235 -28.565939         20.592349   \n",
       "2       2022-07-31 15:28:52      36.494118 -28.618690         17.710003   \n",
       "3       2022-07-31 15:28:53      38.388235 -28.580723         18.628749   \n",
       "4       2022-07-31 15:28:54      39.870588 -28.440966         25.889718   \n",
       "...                     ...            ...        ...               ...   \n",
       "144764  2022-11-29 11:17:23      32.717647 -28.865934         10.276520   \n",
       "144765  2022-11-29 11:17:24      32.188235 -28.905144          9.820954   \n",
       "144766  2022-11-29 11:17:25      31.258824 -28.879877          9.632522   \n",
       "144767  2022-11-29 11:17:26      30.741176 -28.918146          8.859020   \n",
       "144768  2022-11-29 11:17:27      32.482353 -28.824047         15.246189   \n",
       "\n",
       "        standard deviation_dB  rainfall_intensity  \n",
       "0                    6.606345                2.73  \n",
       "1                    6.589163                2.73  \n",
       "2                    6.453218                2.73  \n",
       "3                    6.565817                2.73  \n",
       "4                    6.837772                2.73  \n",
       "...                       ...                 ...  \n",
       "144764               6.112510                0.00  \n",
       "144765               5.932460                0.00  \n",
       "144766               6.091518                0.00  \n",
       "144767               6.002291                0.00  \n",
       "144768               6.265244                0.00  \n",
       "\n",
       "[144769 rows x 6 columns]"
      ]
     },
     "execution_count": 8,
     "metadata": {},
     "output_type": "execute_result"
    }
   ],
   "source": [
    "dataset"
   ]
  }
 ],
 "metadata": {
  "kernelspec": {
   "display_name": "Python 3 (ipykernel)",
   "language": "python",
   "name": "python3"
  },
  "language_info": {
   "codemirror_mode": {
    "name": "ipython",
    "version": 3
   },
   "file_extension": ".py",
   "mimetype": "text/x-python",
   "name": "python",
   "nbconvert_exporter": "python",
   "pygments_lexer": "ipython3",
   "version": "3.9.19"
  },
  "toc": {
   "base_numbering": 1,
   "nav_menu": {},
   "number_sections": true,
   "sideBar": true,
   "skip_h1_title": false,
   "title_cell": "Table of Contents",
   "title_sidebar": "Contents",
   "toc_cell": false,
   "toc_position": {},
   "toc_section_display": true,
   "toc_window_display": false
  },
  "varInspector": {
   "cols": {
    "lenName": 16,
    "lenType": 16,
    "lenVar": 40
   },
   "kernels_config": {
    "python": {
     "delete_cmd_postfix": "",
     "delete_cmd_prefix": "del ",
     "library": "var_list.py",
     "varRefreshCmd": "print(var_dic_list())"
    },
    "r": {
     "delete_cmd_postfix": ") ",
     "delete_cmd_prefix": "rm(",
     "library": "var_list.r",
     "varRefreshCmd": "cat(var_dic_list()) "
    }
   },
   "types_to_exclude": [
    "module",
    "function",
    "builtin_function_or_method",
    "instance",
    "_Feature"
   ],
   "window_display": false
  }
 },
 "nbformat": 4,
 "nbformat_minor": 5
}
