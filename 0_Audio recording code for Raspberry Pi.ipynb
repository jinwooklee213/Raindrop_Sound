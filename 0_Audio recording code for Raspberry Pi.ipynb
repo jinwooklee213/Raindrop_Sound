{
 "cells": [
  {
   "cell_type": "code",
   "execution_count": null,
   "id": "f1509716",
   "metadata": {},
   "outputs": [],
   "source": [
    "import pyaudio\n",
    "import wave\n",
    "import time\n",
    "from datetime import datetime\n",
    "from time import mktime\n",
    "\n",
    "form_1 = pyaudio.paInt16 # 16-bit resolution\n",
    "chans = 1 # 1 channel\n",
    "samp_rate = 44100 # 44.1kHz sampling rate\n",
    "chunk = 4096 # 2^12 samples for buffer\n",
    "record_secs = 60 # seconds to record\n",
    "dev_index = 2 # device index found by p.get_device_info_by_index(ii)\n",
    "\n",
    "now = time.localtime()\n",
    "file_name = datetime(*now[:6]).strftime(\"%Y_%m_%d_%H_%M_%S\")\n",
    "\n",
    "#;;;;;;;;;;;;;;;;;;;::::::::::::::: Need to modify the path of the recording file storage directory ;;;;;;;;;;;;;;;;;;;;;;;;;;;;;;;;;;;;;;;;;;;;;;;;;\n",
    "wav_output_filename = f'{file_name}.wav' # name of .wav file\n",
    "#;;;;;;;;;;;;;;;;;;;::::::::::::::: Need to modify the path of the recording file storage directory ;;;;;;;;;;;;;;;;;;;;;;;;;;;;;;;;;;;;;;;;;;;;;;;;;\n",
    "\n",
    "audio = pyaudio.PyAudio() # create pyaudio instantiation\n",
    "\n",
    "# create pyaudio stream\n",
    "stream = audio.open(format = form_1,rate = samp_rate,channels = chans, \\\n",
    "                    input_device_index = dev_index, \\\n",
    "                    input = True, \\\n",
    "                    frames_per_buffer=chunk)\n",
    "print(\"recording strat!\")\n",
    "frames = []\n",
    "\n",
    "# loop through stream and append audio chunks to frame array\n",
    "for ii in range(0,int((samp_rate/chunk)*record_secs)):\n",
    "    data = stream.read(chunk)\n",
    "    frames.append(data)\n",
    "\n",
    "print(\"finished recording\")\n",
    "\n",
    "# stop the stream, close it, and terminate the pyaudio instantiation\n",
    "stream.stop_stream()\n",
    "stream.close()\n",
    "audio.terminate()\n",
    "\n",
    "# save the audio frames as .wav file\n",
    "wavefile = wave.open(wav_output_filename,'wb')\n",
    "wavefile.setnchannels(chans)\n",
    "wavefile.setsampwidth(audio.get_sample_size(form_1))\n",
    "wavefile.setframerate(samp_rate)\n",
    "wavefile.writeframes(b''.join(frames))\n",
    "wavefile.close()"
   ]
  }
 ],
 "metadata": {
  "kernelspec": {
   "display_name": "Python 3 (ipykernel)",
   "language": "python",
   "name": "python3"
  },
  "language_info": {
   "codemirror_mode": {
    "name": "ipython",
    "version": 3
   },
   "file_extension": ".py",
   "mimetype": "text/x-python",
   "name": "python",
   "nbconvert_exporter": "python",
   "pygments_lexer": "ipython3",
   "version": "3.9.7"
  },
  "toc": {
   "base_numbering": 1,
   "nav_menu": {},
   "number_sections": true,
   "sideBar": true,
   "skip_h1_title": false,
   "title_cell": "Table of Contents",
   "title_sidebar": "Contents",
   "toc_cell": false,
   "toc_position": {},
   "toc_section_display": true,
   "toc_window_display": false
  },
  "varInspector": {
   "cols": {
    "lenName": 16,
    "lenType": 16,
    "lenVar": 40
   },
   "kernels_config": {
    "python": {
     "delete_cmd_postfix": "",
     "delete_cmd_prefix": "del ",
     "library": "var_list.py",
     "varRefreshCmd": "print(var_dic_list())"
    },
    "r": {
     "delete_cmd_postfix": ") ",
     "delete_cmd_prefix": "rm(",
     "library": "var_list.r",
     "varRefreshCmd": "cat(var_dic_list()) "
    }
   },
   "types_to_exclude": [
    "module",
    "function",
    "builtin_function_or_method",
    "instance",
    "_Feature"
   ],
   "window_display": false
  }
 },
 "nbformat": 4,
 "nbformat_minor": 5
}
