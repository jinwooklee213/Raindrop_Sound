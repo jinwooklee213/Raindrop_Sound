{
 "cells": [
  {
   "cell_type": "markdown",
   "metadata": {},
   "source": [
    "# 라이브러리"
   ]
  },
  {
   "cell_type": "code",
   "execution_count": null,
   "metadata": {},
   "outputs": [],
   "source": [
    "import pandas as pd\n",
    "import numpy as np\n",
    "from tqdm import tqdm\n",
    "\n",
    "import seaborn as sns\n",
    "import matplotlib.pyplot as plt\n",
    "import matplotlib as mpl\n",
    "\n",
    "import xgboost as xgb\n",
    "import optuna\n",
    "from optuna.visualization import plot_optimization_history\n",
    "\n",
    "from sklearn.metrics import mean_squared_error, mean_absolute_error, confusion_matrix, r2_score, mean_absolute_percentage_error\n",
    "\n",
    "import random\n",
    "random.seed(777)"
   ]
  },
  {
   "cell_type": "markdown",
   "metadata": {},
   "source": [
    "# 시간 옵션 세팅 후 data load"
   ]
  },
  {
   "cell_type": "code",
   "execution_count": null,
   "metadata": {},
   "outputs": [],
   "source": [
    "# ;;;;;;;;;;;;;;;;;;;;;;;;;;;;;;;;;;;;;;;;;;;;;;;;;;;;;;;;\n",
    "interval = '10초'  # ;;;;;;;;;;;;;;;;;;;;;;;;;;;;;;;;;;;;;\n",
    "random_seed = 777  # ;;;;;;;;;;;;;;;;;;;;;;;;;;;;;;;;;;;;;\n",
    "# ;;;;;;;;;;;;;;;;;;;;;;;;;;;;;;;;;;;;;;;;;;;;;;;;;;;;;;;;\n",
    "\n",
    "\n",
    "month_list = [7,8,9]\n",
    "\n",
    "if interval == '1초':\n",
    "    dataset = pd.read_csv(r\"D:\\1. 음향기반 강우관측\\Dataset\\음향 데이터\\20220731_20221128 데이터셋\\XGBoost 학습 데이터셋\\sec_Final_dataset_20220731_20221128.csv\", encoding='cp949')\n",
    "\n",
    "elif interval == '10초':\n",
    "    dataset = pd.read_csv(r\"D:\\1. 음향기반 강우관측\\Dataset\\음향 데이터\\20220731_20221128 데이터셋\\XGBoost 학습 데이터셋\\tensec_Final_dataset_20220731_20221128.csv\", encoding='cp949')\n",
    "\n",
    "elif interval == '1분':\n",
    "    dataset = pd.read_csv(r\"D:\\1. 음향기반 강우관측\\Dataset\\음향 데이터\\20220731_20221128 데이터셋\\XGBoost 학습 데이터셋\\min_Final_dataset_20220731_20221128.csv\", encoding='cp949')\n",
    "\n",
    "else:\n",
    "    print('잘못된 시간입력')\n",
    "\n",
    "\n",
    "dataset.dropna(inplace=True)\n",
    "dataset.reset_index(inplace=True, drop=True)\n",
    "\n",
    "if \"rainfall_intensity\" in dataset.columns:\n",
    "    dataset.rename(columns = {'rainfall_intensity':'rainfall intensity'},inplace=True)\n",
    "\n",
    "if \"time\" in dataset.columns:\n",
    "    dataset.rename(columns = {'time':'Time'},inplace=True)\n",
    "\n",
    "\n",
    "\n",
    "rainfall_threshold = 0.5\n",
    "\n",
    "for k in tqdm(range(len(dataset))):\n",
    "    \n",
    "    if dataset.loc[k,'rainfall intensity'] > rainfall_threshold:\n",
    "        \n",
    "        dataset.loc[k, 'rain_OX'] = 1\n",
    "        \n",
    "    else:\n",
    "        dataset.loc[k, 'rain_OX'] = 0\n",
    "\n",
    "dataset.reset_index(inplace=True)\n",
    "dataset.head(5)"
   ]
  },
  {
   "cell_type": "markdown",
   "metadata": {},
   "source": [
    "# 강우 유무 이진분류"
   ]
  },
  {
   "cell_type": "markdown",
   "metadata": {},
   "source": [
    "## train:valid:test = 3:1:6"
   ]
  },
  {
   "cell_type": "code",
   "execution_count": null,
   "metadata": {},
   "outputs": [],
   "source": [
    "X_train = dataset.iloc[::3,2:6].drop(np.arange(0,len(dataset),12))\n",
    "y_train = dataset.iloc[::3,-1].drop(np.arange(0,len(dataset),12))\n",
    "train_index = dataset.iloc[::3,0].drop(np.arange(0,len(dataset),12))\n",
    "\n",
    "X_valid = dataset.iloc[::12,2:6]\n",
    "y_valid = dataset.iloc[::12,-1]\n",
    "valid_index = dataset.iloc[::12,0]\n",
    "\n",
    "X_test = dataset.drop(np.arange(0,len(dataset),3)).iloc[:,2:6]\n",
    "y_test = dataset.drop(np.arange(0,len(dataset),3)).iloc[:,-1]\n",
    "test_index = dataset.drop(np.arange(0,len(dataset),3)).iloc[:,0]"
   ]
  },
  {
   "cell_type": "code",
   "execution_count": null,
   "metadata": {},
   "outputs": [],
   "source": [
    "len(X_train)"
   ]
  },
  {
   "cell_type": "code",
   "execution_count": null,
   "metadata": {},
   "outputs": [],
   "source": [
    "len(X_valid)"
   ]
  },
  {
   "cell_type": "code",
   "execution_count": null,
   "metadata": {},
   "outputs": [],
   "source": [
    "len(X_test)"
   ]
  },
  {
   "cell_type": "code",
   "execution_count": null,
   "metadata": {},
   "outputs": [],
   "source": [
    "(len(X_train) + len(X_valid))*2"
   ]
  },
  {
   "cell_type": "markdown",
   "metadata": {},
   "source": [
    "## Optuna 하이퍼 파라미터 최적화"
   ]
  },
  {
   "cell_type": "code",
   "execution_count": null,
   "metadata": {},
   "outputs": [],
   "source": [
    "# from sklearn.metrics import f1_score\n",
    "# import numpy as np\n",
    "\n",
    "# def f1_eval(y_pred, dtrain):\n",
    "#     y_true = dtrain.get_label()\n",
    "#     err = 1-f1_score(y_true, np.round(y_pred))\n",
    "#     return 'f1_err', err"
   ]
  },
  {
   "cell_type": "code",
   "execution_count": null,
   "metadata": {},
   "outputs": [],
   "source": [
    "def objective(trial):\n",
    "    \"\"\"Define the objective function\"\"\"\n",
    "\n",
    "    params = {        \n",
    "        'eta': trial.suggest_float('eta',0.01,0.1), # 튜닝 필요 \n",
    "        'gamma' : trial.suggest_float('gamma',0,0.5), # 튜닝 필요\n",
    "        'max_depth' : trial.suggest_int('max_depth',2,10), # 튜닝 필요 \n",
    "        'subsample': trial.suggest_float('subsample',0.7,1), # 튜닝 필요\n",
    "        'min_child_weight':trial.suggest_int('min_child_weight',1,3), # 튜닝 필요\n",
    "        }\n",
    "\n",
    "    # Fit the model\n",
    "    optuna_model = xgb.XGBClassifier(booster='gbtree',\n",
    "                                     verbosity=0,\n",
    "                                     n_estimators=5000,\n",
    "                                     early_stopping_rounds=50,\n",
    "                                     eval_metric='rmse',\n",
    "                                     seed=random_seed,\n",
    "                                     **params)\n",
    "    \n",
    "    pruning_callback = optuna.integration.XGBoostPruningCallback(trial, 'validation_0-rmse')\n",
    "    \n",
    "    optuna_model.fit(X_train,y_train, eval_set=[(X_valid, y_valid)], callbacks=[pruning_callback])\n",
    "\n",
    "    # Make predictions\n",
    "    preds = optuna_model.predict(X_test)\n",
    "\n",
    "    # Evaluate predictions\n",
    "    rmse = np.sqrt(mean_squared_error(y_test, preds))\n",
    "\n",
    "    return rmse\n",
    "\n",
    "sampler = optuna.samplers.TPESampler(seed=777)\n",
    "\n",
    "study = optuna.create_study(sampler = sampler, direction='minimize')\n",
    "\n",
    "study.optimize(objective, n_trials=1000)"
   ]
  },
  {
   "cell_type": "code",
   "execution_count": null,
   "metadata": {},
   "outputs": [],
   "source": [
    "print('Number of finished trials: {}'.format(len(study.trials)))\n",
    "print(' ')\n",
    "print('Best trial:')\n",
    "trial = study.best_trial\n",
    "\n",
    "print('  Value: {}'.format(trial.value))\n",
    "print(' ')\n",
    "print('  Params: ')\n",
    "\n",
    "for key, value in trial.params.items():\n",
    "    print('    {}: {}'.format(key, value))\n",
    "\n",
    "\n",
    "plot_optimization_history(study)"
   ]
  },
  {
   "cell_type": "markdown",
   "metadata": {},
   "source": [
    "## 최적 파라미터 학습 진행"
   ]
  },
  {
   "cell_type": "code",
   "execution_count": null,
   "metadata": {},
   "outputs": [],
   "source": [
    "params = trial.params\n",
    "\n",
    "xg_class = xgb.XGBClassifier(booster='gbtree', \n",
    "                           verbosity=0,\n",
    "                           n_estimators=5000,\n",
    "                           early_stopping_rounds=50,\n",
    "                           eval_metric='rmse',\n",
    "                           seed=random_seed,\n",
    "                           **params)\n",
    "    \n",
    "xg_class.fit(X_train,y_train, eval_set=[(X_valid, y_valid)])\n",
    "\n",
    "results = xg_class.evals_result()"
   ]
  },
  {
   "cell_type": "code",
   "execution_count": null,
   "metadata": {},
   "outputs": [],
   "source": [
    "preds = xg_class.predict(X_test)\n",
    "\n",
    "rmse = np.sqrt(mean_squared_error(y_test, preds))\n",
    "print(f\"RMSE: {rmse}\")\n",
    "\n",
    "xgb.plot_importance(xg_class)\n",
    "\n",
    "plt.figure(figsize=(7,5))\n",
    "plt.plot(results['validation_0']['rmse'], label='train loss', c='gray')\n",
    "#plt.plot(results['validation_1']['rmse'], label='validation loss', c='red')\n",
    "plt.legend()\n",
    "plt.xlabel('n_estimators', size=20, labelpad=15)\n",
    "plt.ylabel('RMSE', size=20, labelpad=15)\n",
    "#plt.savefig(r'D:\\1. 음향기반 강우관측\\SCIE 국외 논문\\result_fig/{}_강우 유무 분류 로스 감소.png'.format(interval), bbox_inches='tight', dpi = 600)\n",
    "plt.plot()"
   ]
  },
  {
   "cell_type": "code",
   "execution_count": null,
   "metadata": {},
   "outputs": [],
   "source": [
    "font = {'family' : 'Arial',\n",
    "    'weight' : 'medium',\n",
    "    'size'   : 20,\n",
    "    'style'  : 'normal'}\n",
    "\n",
    "mpl.rc('font', **font)\n",
    "\n",
    "cm = confusion_matrix(y_test, preds)\n",
    "\n",
    "ax= plt.subplot()\n",
    "init_cmap = plt.cm.get_cmap(\"bone\")\n",
    "sns.heatmap(cm, annot=True, fmt='g', ax=ax, cmap=init_cmap.reversed());  #annot=True to annotate cells, ftm='g' to disable scientific notation\n",
    "\n",
    "# labels, title and ticks\n",
    "ax.set_xlabel('Predicted classification', size=20, labelpad=15, fontdict={'family' : 'Arial',\n",
    "    'weight' : 'bold',\n",
    "    'size'   : 20,\n",
    "    'style'  : 'normal'})\n",
    "\n",
    "ax.set_ylabel('True classification', size=20, labelpad=15, fontdict={'family' : 'Arial',\n",
    "    'weight' : 'bold',\n",
    "    'size'   : 20,\n",
    "    'style'  : 'normal'})\n",
    "    \n",
    "ax.xaxis.set_ticklabels(['No rain', 'rain'])\n",
    "ax.yaxis.set_ticklabels(['No rain', 'rain'])\n",
    "#plt.savefig(r'D:\\1. 음향기반 강우관측\\SCIE 국외 논문\\result_fig/{}_confusion matrix.png'.format(interval), bbox_inches='tight', dpi = 600)\n",
    "plt.show()"
   ]
  },
  {
   "cell_type": "markdown",
   "metadata": {},
   "source": [
    "# 강우강도 산정"
   ]
  },
  {
   "cell_type": "markdown",
   "metadata": {},
   "source": [
    "## New dataset 생성"
   ]
  },
  {
   "cell_type": "code",
   "execution_count": null,
   "metadata": {},
   "outputs": [],
   "source": [
    "X_test['rainfall intensity'] = dataset.drop(np.arange(0,len(dataset),3)).iloc[:,-2]\n",
    "X_test['preds']=preds\n",
    "X_test['index']=test_index\n",
    "new_dataset = X_test[X_test['preds']==1]\n",
    "\n",
    "new_dataset = new_dataset[['index', 'max_frequency', 'weighted mean_dB', 'mean_dB', 'standard deviation_dB', 'rainfall intensity', 'preds']]\n",
    "\n",
    "new_dataset.reset_index(inplace=True, drop=True)\n",
    "\n",
    "new_dataset.head(5)"
   ]
  },
  {
   "cell_type": "markdown",
   "metadata": {},
   "source": [
    "## train:valid:test = 4:1:5"
   ]
  },
  {
   "cell_type": "code",
   "execution_count": null,
   "metadata": {},
   "outputs": [],
   "source": [
    "new_X_train = new_dataset.drop(np.arange(1,len(new_dataset),2)).drop(np.arange(0,len(new_dataset),10)).iloc[:,1:5]\n",
    "new_y_train = new_dataset.drop(np.arange(1,len(new_dataset),2)).drop(np.arange(0,len(new_dataset),10)).iloc[:,-2]\n",
    "new_train_index = new_dataset.drop(np.arange(1,len(new_dataset),2)).drop(np.arange(0,len(new_dataset),10)).iloc[:,0]\n",
    "\n",
    "new_X_valid = new_dataset.iloc[::10,1:5]\n",
    "new_y_valid = new_dataset.iloc[::10,-2]\n",
    "new_valid_index = new_dataset.iloc[::10,0]\n",
    "\n",
    "new_X_test = new_dataset.iloc[1::2,1:5]\n",
    "new_y_test = new_dataset.iloc[1::2,-2]\n",
    "new_test_index = new_dataset.iloc[1::2,0]"
   ]
  },
  {
   "cell_type": "code",
   "execution_count": null,
   "metadata": {},
   "outputs": [],
   "source": [
    "print(f'{len(new_X_train)}, {len(new_X_valid)}, {len(new_X_test)}')"
   ]
  },
  {
   "cell_type": "markdown",
   "metadata": {},
   "source": [
    "## Optuna 하이퍼파라미터 튜닝"
   ]
  },
  {
   "cell_type": "code",
   "execution_count": null,
   "metadata": {},
   "outputs": [],
   "source": [
    "def objective(trial):\n",
    "    \"\"\"Define the objective function\"\"\"\n",
    "\n",
    "    params = {        \n",
    "        'eta': trial.suggest_float('eta',0.01,0.1), # 튜닝 필요 \n",
    "        'gamma' : trial.suggest_float('gamma',0,0.5), # 튜닝 필요\n",
    "        'max_depth' : trial.suggest_int('max_depth',2,10), # 튜닝 필요 \n",
    "        'subsample': trial.suggest_float('subsample',0.7,1), # 튜닝 필요\n",
    "        'min_child_weight':trial.suggest_int('min_child_weight',1,3), # 튜닝 필요\n",
    "        }\n",
    "\n",
    "    # Fit the model\n",
    "    optuna_model = xgb.XGBRegressor(booster='gbtree', \n",
    "                                    verbosity=0,\n",
    "                                    n_estimators=5000,\n",
    "                                    early_stopping_rounds=50,\n",
    "                                    eval_metric='rmse',\n",
    "                                    seed=random_seed,\n",
    "                                    **params)\n",
    "    \n",
    "    pruning_callback = optuna.integration.XGBoostPruningCallback(trial, 'validation_0-rmse')\n",
    "    \n",
    "    optuna_model.fit(new_X_train,new_y_train, eval_set=[(new_X_valid, new_y_valid)], callbacks=[pruning_callback])\n",
    "\n",
    "    # Make predictions\n",
    "    new_preds = optuna_model.predict(new_X_test)\n",
    "\n",
    "    # Evaluate predictions\n",
    "    new_rmse = np.sqrt(mean_squared_error(new_y_test, new_preds))\n",
    "    return new_rmse\n",
    "\n",
    "sampler = optuna.samplers.TPESampler(seed=777)\n",
    "\n",
    "new_study = optuna.create_study(sampler = sampler, direction='minimize')\n",
    "\n",
    "new_study.optimize(objective, n_trials=1000)"
   ]
  },
  {
   "cell_type": "code",
   "execution_count": null,
   "metadata": {},
   "outputs": [],
   "source": [
    "print('Number of finished trials: {}'.format(len(new_study.trials)))\n",
    "print(' ')\n",
    "print('Best trial:')\n",
    "new_trial = new_study.best_trial\n",
    "\n",
    "print('  Value: {}'.format(new_trial.value))\n",
    "print(' ')\n",
    "print('  Params: ')\n",
    "\n",
    "for key, value in new_trial.params.items():\n",
    "    print('    {}: {}'.format(key, value))\n",
    "\n",
    "plot_optimization_history(new_study)"
   ]
  },
  {
   "cell_type": "markdown",
   "metadata": {},
   "source": [
    "## 최적 파라미터 학습 진행"
   ]
  },
  {
   "cell_type": "code",
   "execution_count": null,
   "metadata": {},
   "outputs": [],
   "source": [
    "new_params = new_trial.params\n",
    "\n",
    "xg_reg = xgb.XGBRegressor(booster='gbtree', \n",
    "                          verbosity=0,\n",
    "                          n_estimators=5000,\n",
    "                          early_stopping_rounds=50,\n",
    "                          eval_metric='rmse',\n",
    "                          seed=random_seed,\n",
    "                          **new_params)\n",
    "    \n",
    "xg_reg.fit(new_X_train,new_y_train, eval_set=[(new_X_valid, new_y_valid)])\n",
    "\n",
    "results = xg_reg.evals_result()"
   ]
  },
  {
   "cell_type": "code",
   "execution_count": null,
   "metadata": {},
   "outputs": [],
   "source": [
    "new_preds = xg_reg.predict(new_X_test)\n",
    "\n",
    "new_rmse = np.sqrt(mean_squared_error(new_y_test, new_preds))\n",
    "print(f\"RMSE: {new_rmse}\")\n",
    "\n",
    "xgb.plot_importance(xg_reg)\n",
    "\n",
    "plt.figure(figsize=(7,5))\n",
    "plt.plot(results['validation_0']['rmse'], label='train loss', c='gray')\n",
    "#plt.plot(results['validation_1']['rmse'], label='validation loss', c='red')\n",
    "plt.legend()\n",
    "plt.xlabel('n_estimators', size=20, labelpad=15)\n",
    "plt.ylabel('RMSE', size=20, labelpad=15)\n",
    "#plt.savefig(r'D:\\1. 음향기반 강우관측\\SCIE 국외 논문\\result_fig/{}_강우강도 산정 로스 감소.png'.format(interval), bbox_inches='tight', dpi = 600)\n",
    "plt.show()"
   ]
  },
  {
   "cell_type": "code",
   "execution_count": null,
   "metadata": {},
   "outputs": [],
   "source": [
    "plt.figure(figsize=(5,5))\n",
    "plt.scatter(new_y_test, new_preds, s=1)\n",
    "plt.xlim(0,50)\n",
    "plt.ylim(0,50)\n",
    "plt.xlabel('PARSIVEL', size=20, labelpad=10)\n",
    "plt.ylabel('SOUND', size=20, labelpad=10)\n",
    "#plt.savefig(r'D:\\1. 음향기반 강우관측\\SCIE 국외 논문\\result_fig/{}_강우강도 산정 스케터.png'.format(interval), bbox_inches='tight', dpi = 600)\n",
    "plt.show()"
   ]
  },
  {
   "cell_type": "markdown",
   "metadata": {},
   "source": [
    "## 무강우 + 산정 강우강도"
   ]
  },
  {
   "cell_type": "code",
   "execution_count": null,
   "metadata": {},
   "outputs": [],
   "source": [
    "aa = pd.DataFrame({'index':new_test_index, 'preds':new_preds})\n",
    "\n",
    "bb = pd.DataFrame({'index':test_index, 'preds':preds})\n",
    "bb = bb[bb['preds']==0]\n",
    "\n",
    "final = pd.concat([aa,bb]).sort_values('index')\n",
    "final.reset_index(inplace=True, drop=True)"
   ]
  },
  {
   "cell_type": "markdown",
   "metadata": {},
   "source": [
    "## 시계열 plotting"
   ]
  },
  {
   "cell_type": "code",
   "execution_count": null,
   "metadata": {},
   "outputs": [],
   "source": [
    "## 시간 리스트 생성\n",
    "\n",
    "pred = final['preds']\n",
    "ref =  dataset.loc[final['index'].tolist(), 'rainfall intensity'].values\n",
    "\n",
    "time = []\n",
    "a = 0\n",
    "\n",
    "for k in range(len(dataset)):\n",
    "    if dataset.loc[k,'rainfall intensity'] == ref[a]:\n",
    "        time.append(dataset.loc[k,'Time'])\n",
    "        a += 1\n",
    "        if a == len(ref):\n",
    "            break\n",
    "\n",
    "if len(final) != len(time):\n",
    "    print('********************Error*****************************')\n",
    "\n",
    "final_df = pd.DataFrame({'Time':np.array(time), 'preds':pred, 'rainfall intensity':ref})\n",
    "\n",
    "final_df.head(5)"
   ]
  },
  {
   "cell_type": "code",
   "execution_count": null,
   "metadata": {},
   "outputs": [],
   "source": [
    "font = {'family' : 'Arial',\n",
    "    'weight' : 'medium',\n",
    "    'size'   : 20,\n",
    "    'style'  : 'normal'}\n",
    "\n",
    "mpl.rc('font', **font)\n",
    "\n",
    "plt.figure(figsize=(20,5))\n",
    "plt.plot(final_df['Time'],final_df['rainfall intensity'], label='PARSIVEL', c='k',alpha = 0.2)\n",
    "plt.fill_between(range(len(final_df['rainfall intensity'])), final_df['rainfall intensity'][:len(final_df['rainfall intensity'])], color='k',alpha = 0.3)\n",
    "\n",
    "plt.fill_between([x for x in final_df['Time'] if x.startswith(\"2022-11\")][0:2], 60, color='black')\n",
    "\n",
    "plt.plot(final_df['Time'], final_df['preds'], label='This study',linewidth='0.8', c='r')\n",
    "\n",
    "plt.xticks([x for x in final_df['Time'] if x.endswith('00:00:00') or x.endswith('12:00:00')], size=13)\n",
    "plt.yticks(size=13)\n",
    "\n",
    "# plt.fill_between(range(8000,14000), 60,alpha = 0.4, color='#00425A')\n",
    "\n",
    "# plt.fill_between(range(365,466), 60,alpha = 0.4, color='#1F8A70')\n",
    "\n",
    "# plt.fill_between(range(780,881), 60,alpha = 0.4, color='#FC7300')\n",
    "\n",
    "\n",
    "plt.xlim(0,len(final_df))\n",
    "plt.ylim(0,60)\n",
    "plt.xlabel('Time', size=25,labelpad=15, fontdict={'family' : 'Arial',\n",
    "    'weight' : 'bold',\n",
    "    'size'   : 20,\n",
    "    'style'  : 'normal'})\n",
    "\n",
    "plt.ylabel('rainfall intensity (mm/h)', size=25,labelpad=15, fontdict={'family' : 'Arial',\n",
    "    'weight' : 'bold',\n",
    "    'size'   : 20,\n",
    "    'style'  : 'normal'})\n",
    "\n",
    "plt.legend(fontsize=20, prop={**font})\n",
    "#plt.savefig(r'D:\\1. 음향기반 강우관측\\SCIE 국외 논문\\result_fig/{}_최종 강우 강도 산정 결과.png'.format(interval), bbox_inches='tight', dpi = 600)\n",
    "plt.show()"
   ]
  },
  {
   "cell_type": "markdown",
   "metadata": {},
   "source": [
    "# 정량적 평가지표"
   ]
  },
  {
   "cell_type": "code",
   "execution_count": null,
   "metadata": {},
   "outputs": [],
   "source": [
    "rmse = np.sqrt(mean_squared_error(final_df['rainfall intensity'], final_df['preds']))\n",
    "print(f\"RMSE: {rmse}\")\n",
    "\n",
    "print(f\"R squared: {r2_score(final_df['rainfall intensity'], final_df['preds'])}\")\n",
    "\n",
    "mae = mean_absolute_error(final_df['rainfall intensity'], final_df['preds'])\n",
    "print(f\"MAE: {mae}\")\n",
    "\n",
    "\n",
    "np.mean(final_df['rainfall intensity'] - final_df['preds'])"
   ]
  },
  {
   "cell_type": "code",
   "execution_count": null,
   "metadata": {},
   "outputs": [],
   "source": [
    "final_df[final_df['Time'].str.contains('2022-11')]"
   ]
  },
  {
   "cell_type": "code",
   "execution_count": null,
   "metadata": {},
   "outputs": [],
   "source": [
    "font = {'family' : 'Arial',\n",
    "    'weight' : 'medium',\n",
    "    'size'   : 20,\n",
    "    'style'  : 'normal'}\n",
    "\n",
    "mpl.rc('font', **font)\n",
    "\n",
    "plt.figure(figsize=(20,8))\n",
    "plt.plot(final_df['Time'],final_df['rainfall intensity'], label='PARSIVEL', c='k',alpha = 0.2)\n",
    "plt.fill_between(range(len(final_df['rainfall intensity'])), final_df['rainfall intensity'][:len(final_df['rainfall intensity'])], color='k',alpha = 0.3)\n",
    "\n",
    "plt.fill_between([x for x in final_df['Time'] if x.startswith(\"2022-11\")][0:2], 60, color='black')\n",
    "\n",
    "\n",
    "plt.plot(final_df['Time'], final_df['preds'], label='This study', c='r',linewidth='0.8')\n",
    "\n",
    "#plt.xticks([x for x in final_df['Time'] if x.endswith('00:00:00') or x.endswith('12:00:00') or x.endswith('06:00:00') or x.endswith('18:00:00')], size=22)\n",
    "plt.xticks([x for x in final_df.loc[np.arange(4282+500,8156,1000), 'Time']], size=23)\n",
    "plt.tick_params(axis='x', length=10, width=2)\n",
    "\n",
    "plt.yticks(size=20)\n",
    "\n",
    "plt.fill_between(range(4790,5290), 60,alpha = 0.6, color='#8F9EAB')\n",
    "\n",
    "plt.fill_between(range(2240,2740), 60,alpha = 0.6, color='#8F9EAB')\n",
    "\n",
    "plt.fill_between(range(800,1300), 60,alpha = 0.6, color='#8F9EAB')\n",
    "\n",
    "\n",
    "plt.xlim(final_df.iloc[4282,0], final_df.iloc[8156,0])\n",
    "plt.ylim(0,60)\n",
    "plt.xlabel('Time', size=30, labelpad=15, fontdict={'family' : 'Arial',\n",
    "    'weight' : 'bold',\n",
    "    'size'   : 20,\n",
    "    'style'  : 'normal'})\n",
    "plt.ylabel('Rainfall Intensity (mm/h)', size=30, labelpad=15, fontdict={'family' : 'Arial',\n",
    "    'weight' : 'bold',\n",
    "    'size'   : 20,\n",
    "    'style'  : 'normal'})\n",
    "\n",
    "plt.legend(fontsize=30)\n",
    "plt.savefig(r'D:\\1. 음향기반 강우관측\\SCIE 국외 논문\\result_fig/최종 강우 강도 산정 결과(구분 표시)_non-monsoon.png', bbox_inches='tight', dpi = 600)\n",
    "plt.show()"
   ]
  },
  {
   "cell_type": "code",
   "execution_count": null,
   "metadata": {},
   "outputs": [],
   "source": [
    "ref = final_df['rainfall intensity']\n",
    "pred = final_df['preds']\n",
    "\n",
    "str_ind = 4790\n",
    "end_ind = 5290\n",
    "\n",
    "# str_ind = 2240\n",
    "# end_ind = 2740\n",
    "\n",
    "# str_ind = 800\n",
    "# end_ind = 1300\n",
    "\n",
    "font = {'family' : 'Arial',\n",
    "    'weight' : 'medium',\n",
    "    'size'   : 20,\n",
    "    'style'  : 'normal'}\n",
    "\n",
    "mpl.rc('font', **font)\n",
    "\n",
    "plt.figure(figsize=(15,8))\n",
    "\n",
    "plt.plot(final_df.loc[str_ind:end_ind, 'Time'], ref[str_ind:end_ind+1].cumsum()/360, label='PARSIVEL', linewidth = 1.5, color='k')  # 나누기 60??\n",
    "\n",
    "plt.plot(final_df.loc[str_ind:end_ind, 'Time'], pred[str_ind:end_ind+1].cumsum()/360, label='This study', linewidth = 1.5, color='r')\n",
    "\n",
    "plt.xticks([x for x in final_df.loc[np.arange(str_ind+95,end_ind,150), 'Time']], size=23)\n",
    "plt.yticks(size=20)\n",
    "\n",
    "plt.ylim(0)\n",
    "\n",
    "plt.xlim(0,end_ind - str_ind)\n",
    "plt.ylim(0,11)\n",
    "\n",
    "plt.ylabel('Precipitation(mm)', size=30, labelpad=15, fontdict={'family' : 'Arial',\n",
    "    'weight' : 'bold',\n",
    "    'size'   : 20,\n",
    "    'style'  : 'normal'})\n",
    "plt.xlabel('Time', size=30, labelpad=15, fontdict={'family' : 'Arial',\n",
    "    'weight' : 'bold',\n",
    "    'size'   : 20,\n",
    "    'style'  : 'normal'})\n",
    "\n",
    "plt.grid(linestyle='--')\n",
    "\n",
    "plt.legend(loc='upper left', fontsize=30, framealpha=1)\n",
    "\n",
    "plt.savefig(r'D:\\1. 음향기반 강우관측\\SCIE 국외 논문\\result_fig/{1}-{2}_누적 강우강도.png'.format(interval, str_ind, end_ind), bbox_inches='tight', dpi = 600)\n",
    "\n",
    "plt.show()"
   ]
  }
 ],
 "metadata": {
  "kernelspec": {
   "display_name": "acoustic",
   "language": "python",
   "name": "python3"
  },
  "language_info": {
   "codemirror_mode": {
    "name": "ipython",
    "version": 3
   },
   "file_extension": ".py",
   "mimetype": "text/x-python",
   "name": "python",
   "nbconvert_exporter": "python",
   "pygments_lexer": "ipython3",
   "version": "3.7.12"
  },
  "orig_nbformat": 4
 },
 "nbformat": 4,
 "nbformat_minor": 2
}
